{
 "cells": [
  {
   "cell_type": "code",
   "execution_count": 1,
   "metadata": {
    "collapsed": true
   },
   "outputs": [],
   "source": [
    "# Ignore SQLITE warnings related to Decimal numbers in the Chinook database\n",
    "import warnings\n",
    "warnings.filterwarnings('ignore')"
   ]
  },
  {
   "cell_type": "code",
   "execution_count": 2,
   "metadata": {
    "collapsed": true
   },
   "outputs": [],
   "source": [
    "# Import Dependencies\n",
    "### BEGIN SOLUTION\n",
    "import sqlalchemy\n",
    "from sqlalchemy.ext.automap import automap_base\n",
    "from sqlalchemy.orm import Session\n",
    "from sqlalchemy import create_engine\n",
    "from sqlalchemy import func\n",
    "from sqlalchemy import inspect\n",
    "### END SOLUTION"
   ]
  },
  {
   "cell_type": "code",
   "execution_count": 133,
   "metadata": {
    "collapsed": true
   },
   "outputs": [],
   "source": [
    "import pandas as pd\n",
    "import json\n",
    "import numpy as np"
   ]
  },
  {
   "cell_type": "code",
   "execution_count": null,
   "metadata": {
    "collapsed": true
   },
   "outputs": [],
   "source": [
    "##################################################\n",
    "# Flask Setup\n",
    "##################################################\n",
    "app = Flask(__name__)"
   ]
  },
  {
   "cell_type": "code",
   "execution_count": 52,
   "metadata": {
    "collapsed": true
   },
   "outputs": [],
   "source": [
    "# Create an engine for the belly_button_biodiversity.sqlite database\n",
    "### BEGIN SOLUTION\n",
    "engine = create_engine(\"sqlite:///belly_button_biodiversity.sqlite\", echo=False)\n",
    "### END SOLUTION"
   ]
  },
  {
   "cell_type": "code",
   "execution_count": 53,
   "metadata": {},
   "outputs": [
    {
     "data": {
      "text/plain": [
       "['otu', 'samples', 'samples_metadata']"
      ]
     },
     "execution_count": 53,
     "metadata": {},
     "output_type": "execute_result"
    }
   ],
   "source": [
    "# Reflect Database into ORM classes\n",
    "### BEGIN SOLUTION\n",
    "Base = automap_base()\n",
    "Base.prepare(engine, reflect=True)\n",
    "Base.classes.keys()\n",
    "### END SOLUTION"
   ]
  },
  {
   "cell_type": "code",
   "execution_count": 54,
   "metadata": {
    "collapsed": true
   },
   "outputs": [],
   "source": [
    "#Get References for each table\n",
    "Otu = Base.classes.otu\n",
    "Samples = Base.classes.samples\n",
    "Samples_metadata = Base.classes.samples_metadata"
   ]
  },
  {
   "cell_type": "code",
   "execution_count": 117,
   "metadata": {},
   "outputs": [],
   "source": [
    "inspector = inspect(engine)\n",
    "samplesall = inspector.get_columns('samples')"
   ]
  },
  {
   "cell_type": "code",
   "execution_count": 109,
   "metadata": {},
   "outputs": [],
   "source": [
    "# Other ways of doing this\n",
    "# Converting using pandas and sql statement\n",
    "# stmt = session.query(Samples).statement\n",
    "# df = pd.read_sql_query(stmt, session.bind)\n",
    "# df.set_index('otu_id', inplace=True)\n",
    "# df.columns\n",
    "# # Get the sample list which is the column names in Samples table \n",
    "# samples_column_list = Samples.__table__.columns.keys()\n",
    "# # First element in the samples_column_list is 'otu_id' so sample list is from 2nd element to the last element\n",
    "# sample_list = samples_column_list[1:]\n",
    "# print(sample_list)\n",
    "# return jsonify(sample_list)"
   ]
  },
  {
   "cell_type": "markdown",
   "metadata": {},
   "source": [
    "#### Getting Sample Names"
   ]
  },
  {
   "cell_type": "code",
   "execution_count": 140,
   "metadata": {},
   "outputs": [],
   "source": [
    "# Converting using pandas\n",
    "samplesall_df = pd.DataFrame(samplesall)\n",
    "# samplenames = samplesall_df.loc[samplesall_df[\"name\"] != 'otu_id',]\n",
    "samplenamesdf = pd.DataFrame(samplesall_df['name'])\n",
    "samplenamesdf.set_index('name',inplace=True)\n",
    "# json.dumps(list(samplesall_df['name'][1:]))"
   ]
  },
  {
   "cell_type": "markdown",
   "metadata": {},
   "source": [
    "#### OTU Descriptions"
   ]
  },
  {
   "cell_type": "code",
   "execution_count": 139,
   "metadata": {},
   "outputs": [],
   "source": [
    "results = session.query(Otu.lowest_taxonomic_unit_found).all()\n",
    "# json.dumps(list(np.ravel(results)))"
   ]
  },
  {
   "cell_type": "markdown",
   "metadata": {},
   "source": [
    "#### Metadata for sample"
   ]
  },
  {
   "cell_type": "code",
   "execution_count": null,
   "metadata": {
    "collapsed": true
   },
   "outputs": [],
   "source": [
    "sample = 'BB_940'\n",
    "sampleid = sample(4:)\n",
    "metadata = session.query(Samples_metadata).filter('')"
   ]
  }
 ],
 "metadata": {
  "kernelspec": {
   "display_name": "Python 3",
   "language": "python",
   "name": "python3"
  },
  "language_info": {
   "codemirror_mode": {
    "name": "ipython",
    "version": 3
   },
   "file_extension": ".py",
   "mimetype": "text/x-python",
   "name": "python",
   "nbconvert_exporter": "python",
   "pygments_lexer": "ipython3",
   "version": "3.6.3"
  }
 },
 "nbformat": 4,
 "nbformat_minor": 2
}
